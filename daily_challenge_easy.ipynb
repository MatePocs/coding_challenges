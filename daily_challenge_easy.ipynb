{
 "cells": [
  {
   "cell_type": "code",
   "execution_count": null,
   "metadata": {},
   "outputs": [],
   "source": []
  },
  {
   "cell_type": "code",
   "execution_count": null,
   "metadata": {},
   "outputs": [],
   "source": []
  },
  {
   "cell_type": "code",
   "execution_count": null,
   "metadata": {},
   "outputs": [],
   "source": []
  },
  {
   "cell_type": "code",
   "execution_count": null,
   "metadata": {},
   "outputs": [],
   "source": []
  },
  {
   "cell_type": "markdown",
   "metadata": {},
   "source": [
    "Given a 2D board of characters and a word, find if the word exists in the grid.\n",
    "\n",
    "The word can be constructed from letters of sequentially adjacent cell, where \"adjacent\" cells are those horizontally or vertically neighboring. The same letter cell may not be used more than once.\n",
    "\n",
    "For example, given the following board:\n",
    "\n",
    "[\n",
    "  ['A','B','C','E'],\n",
    "  ['S','F','C','S'],\n",
    "  ['A','D','E','E']\n",
    "]\n",
    "exists(board, \"ABCCED\") returns true, exists(board, \"SEE\") returns true, exists(board, \"ABCB\") returns false."
   ]
  },
  {
   "cell_type": "markdown",
   "metadata": {},
   "source": [
    "Given a number in the form of a list of digits, return all possible permutations.\n",
    "\n",
    "For example, given [1,2,3], return [[1,2,3],[1,3,2],[2,1,3],[2,3,1],[3,1,2],[3,2,1]]"
   ]
  },
  {
   "cell_type": "markdown",
   "metadata": {},
   "source": [
    "Using a read7() method that returns 7 characters from a file, implement readN(n) which reads n characters.\n",
    "\n",
    "For example, given a file with the content “Hello world”, three read7() returns “Hello w”, “orld” and then “”."
   ]
  },
  {
   "cell_type": "markdown",
   "metadata": {},
   "source": [
    "Given a mapping of digits to letters (as in a phone number), and a digit string, return all possible letters the number could represent. You can assume each valid number in the mapping is a single digit.\n",
    "\n",
    "For example if {“2”: [“a”, “b”, “c”], 3: [“d”, “e”, “f”], …} then “23” should return [“ad”, “ae”, “af”, “bd”, “be”, “bf”, “cd”, “ce”, “cf\"]."
   ]
  },
  {
   "cell_type": "markdown",
   "metadata": {},
   "source": [
    "Given a list of possibly overlapping intervals, return a new list of intervals where all overlapping intervals have been merged.\n",
    "\n",
    "The input list is not necessarily ordered in any way.\n",
    "\n",
    "For example, given [(1, 3), (5, 8), (4, 10), (20, 25)], you should return [(1, 3), (4, 10), (20, 25)]."
   ]
  },
  {
   "cell_type": "markdown",
   "metadata": {
    "heading_collapsed": true
   },
   "source": [
    "## n-th perfect number"
   ]
  },
  {
   "cell_type": "markdown",
   "metadata": {
    "hidden": true
   },
   "source": [
    "A number is considered perfect if its digits sum up to exactly 10.\n",
    "\n",
    "Given a positive integer n, return the n-th perfect number.\n",
    "\n",
    "For example, given 1, you should return 19. Given 2, you should return 28."
   ]
  },
  {
   "cell_type": "markdown",
   "metadata": {
    "hidden": true
   },
   "source": [
    "https://www.geeksforgeeks.org/n-th-number-whose-sum-of-digits-is-ten/"
   ]
  },
  {
   "cell_type": "markdown",
   "metadata": {
    "hidden": true
   },
   "source": [
    "### my solution"
   ]
  },
  {
   "cell_type": "markdown",
   "metadata": {
    "hidden": true
   },
   "source": [
    "Brainstorming a bit. \n",
    "\n",
    "First couple: 19, 28, ... 91, 109, 118, 127,... 811, 820, 901, 910, 1009, 1018\n",
    "\n",
    "9 2-digit ones, all of them can also be 3-digit in too different ways, e.g. 19 -> 190, 109"
   ]
  },
  {
   "cell_type": "code",
   "execution_count": 6,
   "metadata": {
    "hidden": true
   },
   "outputs": [],
   "source": [
    "# supernaive approach is to start counting, \n",
    "# see if it's a perfect number, and then keep track of how many we found\n",
    "# obvious issues with this approach: slow\n",
    "\n",
    "def find_nth_perfect_1(n):\n",
    "    \n",
    "    i = 0\n",
    "    \n",
    "    found_perfect_numbers = 0\n",
    "    \n",
    "    while found_perfect_numbers < n:\n",
    "        \n",
    "        i += 1\n",
    "        \n",
    "        if is_number_perfect(i):\n",
    "            found_perfect_numbers += 1\n",
    "            \n",
    "    return i\n",
    "\n",
    "def is_number_perfect(number):\n",
    "    if sum_of_digits(number) == 10:\n",
    "        return True\n",
    "    else:\n",
    "        return False\n",
    "    \n",
    "def sum_of_digits(number):\n",
    "    sum_of_digits = 0\n",
    "    str_number = str(number)\n",
    "    for digit in str_number:\n",
    "        sum_of_digits += int(digit)\n",
    "    return sum_of_digits"
   ]
  },
  {
   "cell_type": "code",
   "execution_count": 13,
   "metadata": {
    "hidden": true
   },
   "outputs": [
    {
     "data": {
      "text/plain": [
       "55"
      ]
     },
     "execution_count": 13,
     "metadata": {},
     "output_type": "execute_result"
    }
   ],
   "source": [
    "find_nth_perfect_1(5)"
   ]
  },
  {
   "cell_type": "markdown",
   "metadata": {
    "hidden": true
   },
   "source": [
    "### official solution"
   ]
  },
  {
   "cell_type": "code",
   "execution_count": 15,
   "metadata": {
    "hidden": true
   },
   "outputs": [],
   "source": [
    "# method 2 is similar to mine, but it only checks every 9th number after 19\n",
    "# not too interesting"
   ]
  },
  {
   "cell_type": "code",
   "execution_count": 17,
   "metadata": {
    "hidden": true
   },
   "outputs": [],
   "source": [
    "# method 3 calculates it accurately:"
   ]
  },
  {
   "cell_type": "markdown",
   "metadata": {
    "hidden": true
   },
   "source": [
    "If we see the List closely, we will find out that it is an AP where a = 19 and d = 9. But it has got some outliers too which are in multiples of 10 and starts from 100. So the sequence of outliers is something like – {100, 1000, 10000, …}\n",
    "\n",
    "Now if we want to find the nth perfect number, it should be (nth number from AP described above + 9 * number of outliers). Now let’s have a look at how to find the number of outliers. Let’s have a close look at the values returned by the Log10 function for a value n and number of outliers till n"
   ]
  },
  {
   "cell_type": "code",
   "execution_count": 18,
   "metadata": {
    "hidden": true
   },
   "outputs": [],
   "source": [
    "import math \n",
    "  \n",
    "def findNth(n):  \n",
    "  \n",
    "    nthElement = 19 + (n - 1) * 9\n",
    "    outliersCount = int(math.log10(nthElement)) - 1\n",
    "\n",
    "    nthElement += 9 * outliersCount  \n",
    "    return nthElement"
   ]
  },
  {
   "cell_type": "code",
   "execution_count": 20,
   "metadata": {
    "hidden": true
   },
   "outputs": [
    {
     "data": {
      "text/plain": [
       "90000000091"
      ]
     },
     "execution_count": 20,
     "metadata": {},
     "output_type": "execute_result"
    }
   ],
   "source": [
    "findNth(10000000000)"
   ]
  },
  {
   "cell_type": "markdown",
   "metadata": {
    "heading_collapsed": true
   },
   "source": [
    "## list of integers largest product"
   ]
  },
  {
   "cell_type": "markdown",
   "metadata": {
    "hidden": true
   },
   "source": [
    "Given a list of integers, return the largest product that can be made by multiplying any three integers.\n",
    "\n",
    "For example, if the list is [-10, -10, 5, 2], we should return 500, since that's -10 * -10 * 5.\n",
    "\n",
    "You can assume the list has at least three integers."
   ]
  },
  {
   "cell_type": "markdown",
   "metadata": {
    "hidden": true
   },
   "source": [
    "https://www.geeksforgeeks.org/find-maximum-product-of-a-triplet-in-array/"
   ]
  },
  {
   "cell_type": "markdown",
   "metadata": {
    "hidden": true
   },
   "source": [
    "### my solution"
   ]
  },
  {
   "cell_type": "code",
   "execution_count": 1,
   "metadata": {
    "hidden": true
   },
   "outputs": [],
   "source": [
    "# I dont think we can get away without sorting the list\n",
    "# we sort the integers, and then the largest product can be either the product of 3 highest, \n",
    "# or the 1 highest and 2 lowest, if they are negative"
   ]
  },
  {
   "cell_type": "code",
   "execution_count": 7,
   "metadata": {
    "hidden": true
   },
   "outputs": [],
   "source": [
    "# also have to consider if they are all negative, or there are 2 positives\n",
    "# i think no matter what, this would work"
   ]
  },
  {
   "cell_type": "code",
   "execution_count": 8,
   "metadata": {
    "hidden": true
   },
   "outputs": [],
   "source": [
    "def return_largest_product(input_list):\n",
    "    \n",
    "    input_list.sort()\n",
    "    \n",
    "    result_product = input_list[-1] * input_list[-2] * input_list[-3]\n",
    "    \n",
    "    if input_list[0] < 0 and input_list[1] < 0:\n",
    "        result_product = max(\n",
    "            result_product,input_list[0] * input_list[1] * input_list[-1])\n",
    "    \n",
    "    return result_product\n",
    "    \n",
    "    "
   ]
  },
  {
   "cell_type": "code",
   "execution_count": 13,
   "metadata": {
    "hidden": true
   },
   "outputs": [],
   "source": [
    "list_to_test = [-10,  -1, 8, 4, 5, 2]"
   ]
  },
  {
   "cell_type": "code",
   "execution_count": 14,
   "metadata": {
    "hidden": true
   },
   "outputs": [
    {
     "data": {
      "text/plain": [
       "160"
      ]
     },
     "execution_count": 14,
     "metadata": {},
     "output_type": "execute_result"
    }
   ],
   "source": [
    "return_largest_product(list_to_test)"
   ]
  },
  {
   "cell_type": "markdown",
   "metadata": {
    "hidden": true
   },
   "source": [
    "### official solution"
   ]
  },
  {
   "cell_type": "code",
   "execution_count": 15,
   "metadata": {
    "hidden": true
   },
   "outputs": [],
   "source": [
    "# my solution was 3rd on list, O(nlogn) time: "
   ]
  },
  {
   "cell_type": "markdown",
   "metadata": {
    "hidden": true
   },
   "source": [
    "Approach 3: O(nlogn) Time, O(1) Space\n",
    "\n",
    "Sort the array using some efficient in-place sorting algorithm in ascending order.\n",
    "Return the maximum of product of last three elements of the array and product of first two elements and last element."
   ]
  },
  {
   "cell_type": "code",
   "execution_count": 20,
   "metadata": {
    "hidden": true
   },
   "outputs": [],
   "source": [
    "# could be nicer thoug, this is the solution: \n",
    "\n",
    "# Function to find a maximum product of a  \n",
    "# triplet in array of integers of size n \n",
    "def maxProduct(arr, n):  \n",
    "  \n",
    "    # if size is less than 3, no triplet exists  \n",
    "    if n < 3: \n",
    "        return -1\n",
    "  \n",
    "    # Sort the array in ascending order  \n",
    "    arr.sort() \n",
    "  \n",
    "    # Return the maximum of product of last  \n",
    "    # three elements and product of first  \n",
    "    # two elements and last element  \n",
    "    return max(arr[0] * arr[1] * arr[n - 1],  \n",
    "               arr[n - 1] * arr[n - 2] * arr[n - 3])  "
   ]
  },
  {
   "cell_type": "code",
   "execution_count": 16,
   "metadata": {
    "hidden": true
   },
   "outputs": [],
   "source": [
    "# one O(n) solution: "
   ]
  },
  {
   "cell_type": "markdown",
   "metadata": {
    "hidden": true
   },
   "source": [
    "Approach 4: O(n) Time, O(1) Space\n",
    "\n",
    "Scan the array and compute Maximum, second maximum and third maximum element present in the array.\n",
    "\n",
    "Scan the array and compute Minimum and second minimum element present in the array.\n",
    "\n",
    "Return the maximum of product of Maximum, second maximum and third maximum and product of Minimum, second minimum and Maximum element.\n",
    "\n",
    "Note – Step 1 and Step 2 can be done in single traversal of the array."
   ]
  },
  {
   "cell_type": "code",
   "execution_count": 21,
   "metadata": {
    "hidden": true
   },
   "outputs": [],
   "source": [
    "def return_largest_product_2(input_list):\n",
    "    \n",
    "    max_1 = 0\n",
    "    max_2 = 0\n",
    "    max_3 = 0\n",
    "    \n",
    "    min_1 = 0\n",
    "    min_2 = 0\n",
    "    \n",
    "    for i, number in enumerate(input_list):\n",
    "        \n",
    "        if number > max_1:\n",
    "        # check if larger than current max_1, if yes, shift others too\n",
    "            max_3 = max_2\n",
    "            max_2 = max_1\n",
    "            max_1 = number\n",
    "        elif number > max_2:\n",
    "        # if only larger than max_2, only shift max_2 and max_3\n",
    "            max_3 = max_2\n",
    "            max_2 = number\n",
    "        elif number > max_3:\n",
    "        # if only larger than max_3, only shift max_3\n",
    "            max_3 = number\n",
    "        \n",
    "        elif number < min_1:\n",
    "            min_2 = min_1\n",
    "            min_1 = number\n",
    "        \n",
    "        elif number < min_2: \n",
    "            min_2 = number\n",
    "            \n",
    "    #once that's done, we calculate the two options:\n",
    "    return max(max_1 * max_2 * max_3, max_1 * min_1 * min_2)\n",
    "        \n",
    "    "
   ]
  },
  {
   "cell_type": "code",
   "execution_count": 24,
   "metadata": {
    "hidden": true
   },
   "outputs": [],
   "source": [
    "list_to_test = [-10,  -1,  4, 5, 2]"
   ]
  },
  {
   "cell_type": "code",
   "execution_count": 25,
   "metadata": {
    "hidden": true
   },
   "outputs": [
    {
     "data": {
      "text/plain": [
       "50"
      ]
     },
     "execution_count": 25,
     "metadata": {},
     "output_type": "execute_result"
    }
   ],
   "source": [
    "return_largest_product_2(list_to_test)"
   ]
  },
  {
   "cell_type": "markdown",
   "metadata": {
    "heading_collapsed": true
   },
   "source": [
    "## chronological max profit"
   ]
  },
  {
   "cell_type": "markdown",
   "metadata": {
    "hidden": true
   },
   "source": [
    "Given a array of numbers representing the stock prices of a company in chronological order, write a function that calculates the maximum profit you could have made from buying and selling that stock once. You must buy before you can sell it.\n",
    "\n",
    "For example, given [9, 11, 8, 5, 7, 10], you should return 5, since you could buy the stock at 5 dollars and sell it at 10 dollars."
   ]
  },
  {
   "cell_type": "code",
   "execution_count": 11,
   "metadata": {
    "hidden": true
   },
   "outputs": [],
   "source": [
    "# my solution first"
   ]
  },
  {
   "cell_type": "code",
   "execution_count": 16,
   "metadata": {
    "hidden": true
   },
   "outputs": [],
   "source": [
    "def highest_profit(stock_price):\n",
    "    n = len(stock_price)\n",
    "    difference_list = [0] * n\n",
    "    \n",
    "    for i in range(0, n):\n",
    "        for j in range(i + 1, n):\n",
    "            if stock_price[j] - stock_price[i] > difference_list[i]:\n",
    "                difference_list[i] = stock_price[j] - stock_price[i]\n",
    "                \n",
    "    return max(difference_list)    "
   ]
  },
  {
   "cell_type": "code",
   "execution_count": 17,
   "metadata": {
    "hidden": true
   },
   "outputs": [
    {
     "data": {
      "text/plain": [
       "5"
      ]
     },
     "execution_count": 17,
     "metadata": {},
     "output_type": "execute_result"
    }
   ],
   "source": [
    "example = [9,11,8,5,7,10]\n",
    "highest_profit(example)"
   ]
  },
  {
   "cell_type": "code",
   "execution_count": null,
   "metadata": {
    "hidden": true
   },
   "outputs": [],
   "source": [
    "# it looks pretty good to me but it's obviously not linear. i dont know if you can significantly decrease this"
   ]
  },
  {
   "cell_type": "code",
   "execution_count": 18,
   "metadata": {
    "hidden": true
   },
   "outputs": [],
   "source": [
    "# actually, that is the best i can find, so good for us"
   ]
  },
  {
   "cell_type": "markdown",
   "metadata": {
    "heading_collapsed": true
   },
   "source": [
    "## rand(5) to rand(7)"
   ]
  },
  {
   "cell_type": "markdown",
   "metadata": {
    "hidden": true
   },
   "source": [
    "Using a function rand5() that returns an integer from 1 to 5 (inclusive) with uniform probability, implement a function rand7() that returns an integer from 1 to 7 (inclusive)."
   ]
  },
  {
   "cell_type": "code",
   "execution_count": 18,
   "metadata": {
    "hidden": true
   },
   "outputs": [],
   "source": [
    "# my solution first"
   ]
  },
  {
   "cell_type": "code",
   "execution_count": 17,
   "metadata": {
    "hidden": true
   },
   "outputs": [],
   "source": [
    "import numpy as np\n",
    "def rand5():\n",
    "    return np.random.randint(1,6)"
   ]
  },
  {
   "cell_type": "code",
   "execution_count": 38,
   "metadata": {
    "hidden": true
   },
   "outputs": [],
   "source": [
    "def rand7():\n",
    "    # first, we are creating a tuple of two rand5's, can be thought of as a 5x5 matrix\n",
    "    temp_tuple = (rand5(), rand5())\n",
    "    if temp_tuple in [(1,1), (1,2), (1,3)]:\n",
    "        return 1\n",
    "    elif temp_tuple in [(1,4), (1,5), (2,1)]:\n",
    "        return 2\n",
    "    elif temp_tuple in [(2,2), (2,3), (2,4)]:\n",
    "        return 3\n",
    "    elif temp_tuple in [(2,5), (3,1), (3,2)]:\n",
    "        return 4\n",
    "    elif temp_tuple in [(3,3), (3,4), (3,5)]:\n",
    "        return 5\n",
    "    elif temp_tuple in [(4,1), (4,2), (4,3)]:\n",
    "        return 6\n",
    "    elif temp_tuple in [(4,4), (4,5), (5,1)]:\n",
    "        return 7\n",
    "    else:\n",
    "        return rand7()\n",
    "    "
   ]
  },
  {
   "cell_type": "code",
   "execution_count": 39,
   "metadata": {
    "hidden": true
   },
   "outputs": [
    {
     "data": {
      "text/plain": [
       "1"
      ]
     },
     "execution_count": 39,
     "metadata": {},
     "output_type": "execute_result"
    }
   ],
   "source": [
    "rand7()"
   ]
  },
  {
   "cell_type": "code",
   "execution_count": 40,
   "metadata": {
    "hidden": true
   },
   "outputs": [],
   "source": [
    "test_list = []\n",
    "for i in range(0,7000):\n",
    "    test_list.append(rand7())\n",
    "test_list = np.array(test_list)"
   ]
  },
  {
   "cell_type": "code",
   "execution_count": 41,
   "metadata": {
    "hidden": true
   },
   "outputs": [],
   "source": [
    "unique_elements, counts_elements = np.unique(test_list, return_counts=True)"
   ]
  },
  {
   "cell_type": "code",
   "execution_count": 42,
   "metadata": {
    "hidden": true
   },
   "outputs": [
    {
     "data": {
      "text/plain": [
       "(array([1, 2, 3, 4, 5, 6, 7]),\n",
       " array([1022,  977, 1025, 1013,  956, 1006, 1001]))"
      ]
     },
     "execution_count": 42,
     "metadata": {},
     "output_type": "execute_result"
    }
   ],
   "source": [
    "unique_elements, counts_elements"
   ]
  },
  {
   "cell_type": "code",
   "execution_count": 43,
   "metadata": {
    "hidden": true
   },
   "outputs": [],
   "source": [
    "# looks OK. obvious drawback: we are wasting 4/25 of every random generation"
   ]
  },
  {
   "cell_type": "code",
   "execution_count": 44,
   "metadata": {
    "hidden": true
   },
   "outputs": [],
   "source": [
    "# oh, turns out this is the official solution too, which is weird. "
   ]
  },
  {
   "cell_type": "markdown",
   "metadata": {
    "heading_collapsed": true
   },
   "source": [
    "## matrix maze - UNSOLVED"
   ]
  },
  {
   "cell_type": "markdown",
   "metadata": {
    "hidden": true
   },
   "source": [
    "You are given an M by N matrix consisting of booleans that represents a board. Each True boolean represents a wall. Each False boolean represents a tile you can walk on.\n",
    "\n",
    "Given this matrix, a start coordinate, and an end coordinate, return the minimum number of steps required to reach the end coordinate from the start. If there is no possible path, then return null. You can move up, left, down, and right. You cannot move through walls. You cannot wrap around the edges of the board.\n",
    "\n",
    "For example, given the following board:\n",
    "\n",
    "[[f, f, f, f],\n",
    "[t, t, f, t],\n",
    "[f, f, f, f],\n",
    "[f, f, f, f]]\n",
    "and start = (3, 0) (bottom left) and end = (0, 0) (top left), the minimum number of steps required to reach the end is 7, since we would need to go through (1, 2) because there is a wall everywhere else on the second row."
   ]
  },
  {
   "cell_type": "code",
   "execution_count": 36,
   "metadata": {
    "hidden": true
   },
   "outputs": [],
   "source": [
    "# brute force is possible i think with low enough dimensions"
   ]
  },
  {
   "cell_type": "code",
   "execution_count": 21,
   "metadata": {
    "hidden": true
   },
   "outputs": [],
   "source": [
    "def is_available(matrix, position):\n",
    "    matrix_rownum = len(matrix)\n",
    "    matrix_colnum = len(matrix[0])\n",
    "    if position[0] > matrix_rownum or position[0] < 0 or \\\n",
    "        position[1] > matrix_colnum or position[1] < 0 or \\\n",
    "        matrix[position[0]][position[1]] == True:\n",
    "        return False\n",
    "    else:\n",
    "        return True"
   ]
  },
  {
   "cell_type": "code",
   "execution_count": 25,
   "metadata": {
    "hidden": true
   },
   "outputs": [],
   "source": [
    "def list_neighbors(matrix, current_position):\n",
    "    # current position: row, column tuple, so the coordinates in the matrix\n",
    "    \n",
    "    neighbors = []\n",
    "    \n",
    "    current_rownum = current_position[0]\n",
    "    current_colnum = current_position[1]\n",
    "    \n",
    "    to_check = [\n",
    "        (current_rownum - 1, current_colnum), \n",
    "        (current_rownum + 1, current_colnum), \n",
    "        (current_rownum, current_colnum - 1),\n",
    "        (current_rownum, current_colnum + 1),\n",
    "    ]\n",
    "    \n",
    "    # upper check\n",
    "    for neighbor in to_check:\n",
    "        if is_available(matrix, neighbor):\n",
    "            neighbors.append(neighbor)\n",
    "            \n",
    "    return neighbors"
   ]
  },
  {
   "cell_type": "code",
   "execution_count": 30,
   "metadata": {
    "hidden": true
   },
   "outputs": [],
   "source": [
    "def list_empty_neighbors(matrix, distance_matrix, current_position):\n",
    "    \n",
    "    neighbors = list_neighbors(matrix, current_position)\n",
    "    \n",
    "    empty_neighbors = []\n",
    "    \n",
    "    for neighbor in neighbors:\n",
    "        if distance_matrix[neighbor[0]][neighbor[1]].isna():\n",
    "            empty_neighbors.add(neighbor)            "
   ]
  },
  {
   "cell_type": "code",
   "execution_count": 26,
   "metadata": {
    "hidden": true
   },
   "outputs": [],
   "source": [
    "maze = [\n",
    "    [False, False, False, False], [True, True, False, True], \n",
    "    [False, False, False, False], [False, False, False, False], \n",
    "    [True, True, True, True]\n",
    "]"
   ]
  },
  {
   "cell_type": "code",
   "execution_count": null,
   "metadata": {
    "hidden": true
   },
   "outputs": [],
   "source": [
    "def populate_distance_matrix(matrix, current_position):\n",
    "    "
   ]
  },
  {
   "cell_type": "markdown",
   "metadata": {
    "heading_collapsed": true
   },
   "source": [
    "## overlapping time"
   ]
  },
  {
   "cell_type": "markdown",
   "metadata": {
    "hidden": true
   },
   "source": [
    "Given an array of time intervals (start, end) for classroom lectures (possibly overlapping), find the minimum number of rooms required.\n",
    "\n",
    "For example, given [(30, 75), (0, 50), (60, 150)], you should return 2."
   ]
  },
  {
   "cell_type": "code",
   "execution_count": 80,
   "metadata": {
    "hidden": true
   },
   "outputs": [],
   "source": [
    "# i think this is very hard to do in an optimal way. \n",
    "# we can approach it by filling up the rooms left to right"
   ]
  },
  {
   "cell_type": "code",
   "execution_count": 32,
   "metadata": {
    "hidden": true
   },
   "outputs": [],
   "source": [
    "def required_rooms(time_periods):\n",
    "    time_periods.sort()\n",
    "    dict_of_interval_IDs_per_room = {}\n",
    "    # a dictionary of list, first element: wht we can pack in first room\n",
    "    # elements: time period ID\n",
    "    dict_of_interval_IDs_per_room[1] = [time_periods[0]]\n",
    "    counter = 1\n",
    "    \n",
    "    for i in range(1, len(time_periods)):\n",
    "        current_time_period = time_periods[i]\n",
    "        fit_in_existing_room = False\n",
    "        for key in dict_of_interval_IDs_per_room.keys():\n",
    "            print(key)\n",
    "            if current_time_period[0] >= dict_of_interval_IDs_per_room[key][-1][1]:\n",
    "                dict_of_interval_IDs_per_room[key].append(current_time_period)\n",
    "                fit_in_existing_room = True\n",
    "                break\n",
    "        if not(fit_in_existing_room):\n",
    "            counter += 1\n",
    "            dict_of_interval_IDs_per_room[counter] = [current_time_period]\n",
    "                \n",
    "    \n",
    "    return counter, dict_of_interval_IDs_per_room"
   ]
  },
  {
   "cell_type": "code",
   "execution_count": 34,
   "metadata": {
    "hidden": true
   },
   "outputs": [
    {
     "name": "stdout",
     "output_type": "stream",
     "text": [
      "1\n",
      "1\n",
      "2\n",
      "1\n",
      "2\n",
      "1\n"
     ]
    },
    {
     "data": {
      "text/plain": [
       "(3, {1: [(0, 50), (60, 150)], 2: [(5, 15), (20, 70)], 3: [(30, 75)]})"
      ]
     },
     "execution_count": 34,
     "metadata": {},
     "output_type": "execute_result"
    }
   ],
   "source": [
    "time_periods = [(30, 75), (0, 50), (60, 150), (20,70), (5,15)]\n",
    "# time_periods = [(30, 75), (0, 50), (60, 150)]\n",
    "required_rooms(time_periods)"
   ]
  },
  {
   "cell_type": "markdown",
   "metadata": {
    "heading_collapsed": true
   },
   "source": [
    "## balanced brackets"
   ]
  },
  {
   "cell_type": "markdown",
   "metadata": {
    "hidden": true
   },
   "source": [
    "Given a string of round, curly, and square open and closing brackets, return whether the brackets are balanced (well-formed).\n",
    "\n",
    "For example, given the string \"([])[]({})\", you should return true.\n",
    "\n",
    "Given the string \"([)]\" or \"((()\", you should return false."
   ]
  },
  {
   "cell_type": "markdown",
   "metadata": {
    "hidden": true
   },
   "source": [
    "my solution: (obviously not optimal, loops through the string many times)"
   ]
  },
  {
   "cell_type": "code",
   "execution_count": 68,
   "metadata": {
    "hidden": true
   },
   "outputs": [],
   "source": [
    "left_br = ['(', '[', '{']\n",
    "right_br = [')', ']', '}']\n",
    "\n",
    "def brackets_balanced(string):\n",
    "    \n",
    "    string = string\n",
    "    \n",
    "    current_len = len(string)\n",
    "    previous_len = 0\n",
    "    \n",
    "    while current_len != previous_len:\n",
    "        \n",
    "        print(string)\n",
    "        \n",
    "        string = remove_pairs(string)\n",
    "        \n",
    "        previous_len = current_len\n",
    "        current_len = len(string)\n",
    "        \n",
    "    return len(string) == 0\n",
    "    \n",
    "def remove_pairs(string):\n",
    "    \n",
    "    i = 0\n",
    "\n",
    "    #starting from the left, it is definitely ok until we meet the first right \n",
    "    while i < len(string):\n",
    "        curr_char = string[i] \n",
    "        if curr_char in left_br:\n",
    "            last_left = curr_char\n",
    "        else:\n",
    "            curr_right = curr_char\n",
    "            if right_br.index(curr_right) == left_br.index(last_left):\n",
    "                if i == 1:\n",
    "                    string = string[i+1:]\n",
    "                elif i == len(string) + 1:\n",
    "                    string = string[:i-1]\n",
    "                else:\n",
    "                    string = string[:i-1] + string[i+1:]\n",
    "\n",
    "        i +=1\n",
    "\n",
    "    return string\n",
    "    \n",
    "    \n",
    "    "
   ]
  },
  {
   "cell_type": "code",
   "execution_count": 74,
   "metadata": {
    "hidden": true
   },
   "outputs": [
    {
     "name": "stdout",
     "output_type": "stream",
     "text": [
      "([][])\n",
      "([])\n",
      "()\n",
      "\n"
     ]
    },
    {
     "data": {
      "text/plain": [
       "True"
      ]
     },
     "execution_count": 74,
     "metadata": {},
     "output_type": "execute_result"
    }
   ],
   "source": [
    "brackets_balanced('([][])')"
   ]
  },
  {
   "cell_type": "code",
   "execution_count": 75,
   "metadata": {
    "hidden": true
   },
   "outputs": [
    {
     "name": "stdout",
     "output_type": "stream",
     "text": [
      "([}[])\n",
      "([})\n"
     ]
    },
    {
     "data": {
      "text/plain": [
       "False"
      ]
     },
     "execution_count": 75,
     "metadata": {},
     "output_type": "execute_result"
    }
   ],
   "source": [
    "brackets_balanced('([}[])')"
   ]
  },
  {
   "cell_type": "markdown",
   "metadata": {
    "hidden": true
   },
   "source": [
    "after checking the official solution"
   ]
  },
  {
   "cell_type": "code",
   "execution_count": 78,
   "metadata": {
    "hidden": true
   },
   "outputs": [],
   "source": [
    "\n",
    "def brackets_balanced_2(string):\n",
    "    \n",
    "    left_br = ['(', '[', '{']\n",
    "    right_br = [')', ']', '}']\n",
    "    \n",
    "    temp_string = []\n",
    "    \n",
    "    balanced = True\n",
    "    \n",
    "    for i in range(0, len(string)):\n",
    "        \n",
    "        curr_char = string[i]\n",
    "        \n",
    "        if curr_char in left_br:\n",
    "            \n",
    "            temp_string += curr_char\n",
    "            \n",
    "        else:\n",
    "            \n",
    "            if left_br.index(temp_string[-1]) == right_br.index(curr_char):\n",
    "                temp_string.pop()\n",
    "            else:\n",
    "                balanced = False\n",
    "                break\n",
    "                \n",
    "    if len(temp_string) > 0 : balanced = False\n",
    "        \n",
    "    return balanced"
   ]
  },
  {
   "cell_type": "code",
   "execution_count": 79,
   "metadata": {
    "hidden": true
   },
   "outputs": [
    {
     "name": "stdout",
     "output_type": "stream",
     "text": [
      "[]\n",
      "['(']\n",
      "['(', '[']\n",
      "['(']\n",
      "['(', '[']\n",
      "['(']\n"
     ]
    },
    {
     "data": {
      "text/plain": [
       "True"
      ]
     },
     "execution_count": 79,
     "metadata": {},
     "output_type": "execute_result"
    }
   ],
   "source": [
    "brackets_balanced_2('([][])')"
   ]
  },
  {
   "cell_type": "code",
   "execution_count": 77,
   "metadata": {
    "hidden": true
   },
   "outputs": [
    {
     "data": {
      "text/plain": [
       "False"
      ]
     },
     "execution_count": 77,
     "metadata": {},
     "output_type": "execute_result"
    }
   ],
   "source": [
    "brackets_balanced_2('([}[])')"
   ]
  },
  {
   "cell_type": "markdown",
   "metadata": {
    "heading_collapsed": true
   },
   "source": [
    "## run-length encoding"
   ]
  },
  {
   "cell_type": "markdown",
   "metadata": {
    "hidden": true
   },
   "source": [
    "Run-length encoding is a fast and simple method of encoding strings. The basic idea is to represent repeated successive characters as a single count and character. For example, the string \"AAAABBBCCDAA\" would be encoded as \"4A3B2C1D2A\"."
   ]
  },
  {
   "cell_type": "code",
   "execution_count": 29,
   "metadata": {
    "hidden": true
   },
   "outputs": [],
   "source": [
    "def runlength_encoder(string):\n",
    "    count = 1\n",
    "    result_string = ''\n",
    "    coded_char = string[0]\n",
    "    for i in range(1, len(string)):\n",
    "        curr_char = string[i]\n",
    "        if curr_char == coded_char:\n",
    "            count +=1\n",
    "        else:\n",
    "            result_string += str(count) + coded_char\n",
    "            coded_char = curr_char\n",
    "            count = 1\n",
    "            \n",
    "    result_string += str(count) + coded_char   \n",
    "    \n",
    "    return result_string"
   ]
  },
  {
   "cell_type": "code",
   "execution_count": 30,
   "metadata": {
    "hidden": true
   },
   "outputs": [
    {
     "data": {
      "text/plain": [
       "'4A3B2C1D2A'"
      ]
     },
     "execution_count": 30,
     "metadata": {},
     "output_type": "execute_result"
    }
   ],
   "source": [
    "string_to_code = \"AAAABBBCCDAA\"\n",
    "runlength_encoder(string_to_code)"
   ]
  },
  {
   "cell_type": "code",
   "execution_count": 21,
   "metadata": {
    "hidden": true
   },
   "outputs": [],
   "source": [
    "def runlength_decoder(string):\n",
    "    result_string = ''\n",
    "    for i in range(0, len(string), 2):\n",
    "        curr_num = int(string[i])\n",
    "        curr_char = string[i+1]\n",
    "        for j in range(0, curr_num):\n",
    "            result_string += curr_char\n",
    "            \n",
    "    return result_string"
   ]
  },
  {
   "cell_type": "code",
   "execution_count": 22,
   "metadata": {
    "hidden": true
   },
   "outputs": [
    {
     "data": {
      "text/plain": [
       "'AAAABBBCCDAA'"
      ]
     },
     "execution_count": 22,
     "metadata": {},
     "output_type": "execute_result"
    }
   ],
   "source": [
    "string_to_decode = '4A3B2C1D2A'\n",
    "runlength_decoder(string_to_decode)"
   ]
  },
  {
   "cell_type": "code",
   "execution_count": null,
   "metadata": {
    "hidden": true
   },
   "outputs": [],
   "source": []
  }
 ],
 "metadata": {
  "kernelspec": {
   "display_name": "Python 3",
   "language": "python",
   "name": "python3"
  },
  "language_info": {
   "codemirror_mode": {
    "name": "ipython",
    "version": 3
   },
   "file_extension": ".py",
   "mimetype": "text/x-python",
   "name": "python",
   "nbconvert_exporter": "python",
   "pygments_lexer": "ipython3",
   "version": "3.7.4"
  },
  "toc": {
   "base_numbering": 1,
   "nav_menu": {},
   "number_sections": true,
   "sideBar": true,
   "skip_h1_title": false,
   "title_cell": "Table of Contents",
   "title_sidebar": "Contents",
   "toc_cell": false,
   "toc_position": {},
   "toc_section_display": true,
   "toc_window_display": false
  },
  "varInspector": {
   "cols": {
    "lenName": 16,
    "lenType": 16,
    "lenVar": 40
   },
   "kernels_config": {
    "python": {
     "delete_cmd_postfix": "",
     "delete_cmd_prefix": "del ",
     "library": "var_list.py",
     "varRefreshCmd": "print(var_dic_list())"
    },
    "r": {
     "delete_cmd_postfix": ") ",
     "delete_cmd_prefix": "rm(",
     "library": "var_list.r",
     "varRefreshCmd": "cat(var_dic_list()) "
    }
   },
   "types_to_exclude": [
    "module",
    "function",
    "builtin_function_or_method",
    "instance",
    "_Feature"
   ],
   "window_display": false
  }
 },
 "nbformat": 4,
 "nbformat_minor": 2
}
