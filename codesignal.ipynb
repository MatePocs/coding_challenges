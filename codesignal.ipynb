{
 "cells": [
  {
   "cell_type": "markdown",
   "metadata": {},
   "source": [
    "# Introduction"
   ]
  },
  {
   "cell_type": "markdown",
   "metadata": {},
   "source": [
    "Purpose of this notebook: gather notes to prepare for the Code Signal Data Science Assessment. The requirements are from this file: https://codesignal.com/wp-content/uploads/2019/08/data-science-assessment-framework.pdf\n",
    "<br>\n",
    "\n",
    "The maximum allowed completion time for the test is 80 minutes. Each test has 5 implementation tasks and 12 multiple choice quiz questions; in total, there are 17 tasks. \n",
    "<br>\n",
    "\n",
    "__Tasks__:\n",
    "\n",
    "- Programming implementation, 20 minutes, see example 2.2.1.\n",
    "- Bug-fixing, 5 minutes, see example 2.2.2."
   ]
  },
  {
   "cell_type": "markdown",
   "metadata": {},
   "source": [
    "# Programming Basics"
   ]
  },
  {
   "cell_type": "markdown",
   "metadata": {},
   "source": [
    "- primitive data types (ints/floats/strings)\n",
    "- basic arithmetic/logical operations, \n",
    "- loops and decision constructs, \n",
    "- basic collections (arrays, lists, and dictionaries/sets), \n",
    "- lambda functions, list comprehensions,\n",
    "- using libraries highly relevant to data science/analysis (e.g., python numpy/pandas/scikit-learn). "
   ]
  },
  {
   "cell_type": "markdown",
   "metadata": {},
   "source": [
    "## Example 2.2.1"
   ]
  },
  {
   "cell_type": "markdown",
   "metadata": {},
   "source": [
    "You are given a list of strings (data) where each string is in the form `device_id`,`usage_in_minutes` such that `device_id` contains exactly five lowercase English alphabets (’a’-’z’) and `usage_in_minutes` is a positive integer between 1 and 1,440 with leading zeroes (if necessary, to make its length equal to 4). For instance, “abxyz,0010\" describes `device_id` = “abxyz” and `usage_in_minutes` = 10 minutes. Given data, return the `device_id` with the largest value of `usage_in_minutes`. You may assume that `device_id`’s are distinct and `usage_in_minutes` are distinct in data."
   ]
  },
  {
   "cell_type": "code",
   "execution_count": 4,
   "metadata": {},
   "outputs": [
    {
     "data": {
      "text/plain": [
       "'abxyz'"
      ]
     },
     "execution_count": 4,
     "metadata": {},
     "output_type": "execute_result"
    }
   ],
   "source": [
    "def return_largest_device_id(list_of_strings):\n",
    "    max_usage = 0\n",
    "    max_device = ''\n",
    "    for item in list_of_strings:\n",
    "        current_device, current_usage = item.split(',')\n",
    "        current_usage = int(current_usage)\n",
    "        if current_usage > max_usage:\n",
    "            max_usage = current_usage\n",
    "            max_device = current_device\n",
    "            \n",
    "    return max_device\n",
    "        \n",
    "test_list = [\"abxyz,0016\", \"cdfgh,0015\"]\n",
    "return_largest_device_id(test_list)\n",
    "        "
   ]
  },
  {
   "cell_type": "markdown",
   "metadata": {},
   "source": [
    "## Example 2.2.2"
   ]
  },
  {
   "cell_type": "markdown",
   "metadata": {},
   "source": [
    "Consider a function that is given an array/list A of distinct integers and an integer k (where 1 ≤ k ≤ len(A)), and returns all possible subarrays of A by removing k contiguous elements in A. That is, you wish to obtain a subarray of A by removing the first k elements in A, another subarray of A by removing the next k elements in A, and so on.\n",
    "<br>\n",
    "\n",
    "For instance, when A = [2, 4, 6, 8, 10] and k = 3, you can remove \n",
    "- [2, 4, 6] (which results in [8, 10]), \n",
    "- [4, 6, 8](which results in [2, 10]), or \n",
    "- [6, 8, 10] (which results in [2, 4]).\n",
    "<br>\n",
    "\n",
    "Since you are removing k elements from A, you always obtain a subarray of length (len(A) − k), and there are (len(A) − k + 1) such subarrays. \n",
    "\n",
    "<br>\n",
    "In the provided code, the given function contains a buggy line of code. You are asked to find and \u001fx one\n",
    "line of code so that the function will return a list of subarrays correctly."
   ]
  },
  {
   "cell_type": "code",
   "execution_count": 21,
   "metadata": {},
   "outputs": [
    {
     "data": {
      "text/plain": [
       "[[2, 4, 6, 8, 4, 6, 8, 10], [6, 8, 10], [2, 8, 10]]"
      ]
     },
     "execution_count": 21,
     "metadata": {},
     "output_type": "execute_result"
    }
   ],
   "source": [
    "def remove_k_elems(A, k):\n",
    "    n = len(A)\n",
    "    result = lambda arr, idx: arr[0:(idx-1)] + arr[(idx+1):n]\n",
    "    return [ result(A, i) for i in range(n-k+1) ]\n",
    "\n",
    "A = [2, 4, 6, 8, 10] \n",
    "k = 3\n",
    "remove_k_elems(A,k)"
   ]
  },
  {
   "cell_type": "code",
   "execution_count": 20,
   "metadata": {},
   "outputs": [
    {
     "data": {
      "text/plain": [
       "[2, 4, 6]"
      ]
     },
     "execution_count": 20,
     "metadata": {},
     "output_type": "execute_result"
    }
   ],
   "source": [
    "result = lambda arr, idx: arr[0:idx] + arr[(idx+k+1):len(A)]\n",
    "\n",
    "result(A, 3)"
   ]
  },
  {
   "cell_type": "code",
   "execution_count": 23,
   "metadata": {},
   "outputs": [
    {
     "data": {
      "text/plain": [
       "[[8, 10], [2, 10], [2, 4]]"
      ]
     },
     "execution_count": 23,
     "metadata": {},
     "output_type": "execute_result"
    }
   ],
   "source": [
    "def remove_k_elems_corrected(A, k):\n",
    "    n = len(A)\n",
    "    result = lambda arr, idx: arr[0:idx] + arr[(idx+k):n]\n",
    "    return [ result(A, i) for i in range(n-k+1) ]\n",
    "\n",
    "A = [2, 4, 6, 8, 10] \n",
    "k = 3\n",
    "remove_k_elems_corrected(A,k)"
   ]
  },
  {
   "cell_type": "markdown",
   "metadata": {},
   "source": [
    "# Query Language"
   ]
  },
  {
   "cell_type": "markdown",
   "metadata": {},
   "source": [
    "- Basics: Filtering, Sorting, Aggregate Functions,\n",
    "- If, Case and String Functions,\n",
    "- subqueries (innerqueries), \n",
    "- joins (inner, left, right),\n",
    "- window functions and window-specific aggregates"
   ]
  },
  {
   "cell_type": "code",
   "execution_count": null,
   "metadata": {},
   "outputs": [],
   "source": []
  },
  {
   "cell_type": "markdown",
   "metadata": {},
   "source": [
    "# Probability Basics"
   ]
  },
  {
   "cell_type": "markdown",
   "metadata": {},
   "source": [
    "Random Variables, Events, Probability Distributions"
   ]
  },
  {
   "cell_type": "code",
   "execution_count": null,
   "metadata": {},
   "outputs": [],
   "source": []
  },
  {
   "cell_type": "markdown",
   "metadata": {},
   "source": [
    "# Statistics Basics"
   ]
  },
  {
   "cell_type": "markdown",
   "metadata": {},
   "source": [
    "Mean/Median/Mode, Standard Deviation, z-score,\n",
    "p-value, t-statistic"
   ]
  },
  {
   "cell_type": "markdown",
   "metadata": {},
   "source": [
    "# Conditional Probability and Bayes Theorem"
   ]
  },
  {
   "cell_type": "code",
   "execution_count": null,
   "metadata": {},
   "outputs": [],
   "source": []
  },
  {
   "cell_type": "markdown",
   "metadata": {},
   "source": [
    "# Linear Regression"
   ]
  },
  {
   "cell_type": "code",
   "execution_count": null,
   "metadata": {},
   "outputs": [],
   "source": []
  },
  {
   "cell_type": "markdown",
   "metadata": {},
   "source": [
    "# Logistic Regression"
   ]
  },
  {
   "cell_type": "code",
   "execution_count": null,
   "metadata": {},
   "outputs": [],
   "source": []
  },
  {
   "cell_type": "markdown",
   "metadata": {},
   "source": [
    "# Clustering algorithms"
   ]
  },
  {
   "cell_type": "code",
   "execution_count": null,
   "metadata": {},
   "outputs": [],
   "source": []
  },
  {
   "cell_type": "markdown",
   "metadata": {},
   "source": [
    "# Regularization"
   ]
  },
  {
   "cell_type": "markdown",
   "metadata": {},
   "source": [
    "Regularization in Linear Regression and Logistic Regression"
   ]
  },
  {
   "cell_type": "code",
   "execution_count": null,
   "metadata": {},
   "outputs": [],
   "source": []
  },
  {
   "cell_type": "markdown",
   "metadata": {},
   "source": [
    "# Model Evaluation"
   ]
  },
  {
   "cell_type": "markdown",
   "metadata": {},
   "source": [
    "Training/test error, validation methods such as kfold cross validation, and various evaluation metrics"
   ]
  },
  {
   "cell_type": "code",
   "execution_count": null,
   "metadata": {},
   "outputs": [],
   "source": []
  },
  {
   "cell_type": "code",
   "execution_count": null,
   "metadata": {},
   "outputs": [],
   "source": []
  },
  {
   "cell_type": "code",
   "execution_count": null,
   "metadata": {},
   "outputs": [],
   "source": []
  }
 ],
 "metadata": {
  "kernelspec": {
   "display_name": "Python 3",
   "language": "python",
   "name": "python3"
  },
  "language_info": {
   "codemirror_mode": {
    "name": "ipython",
    "version": 3
   },
   "file_extension": ".py",
   "mimetype": "text/x-python",
   "name": "python",
   "nbconvert_exporter": "python",
   "pygments_lexer": "ipython3",
   "version": "3.7.4"
  },
  "toc": {
   "base_numbering": 1,
   "nav_menu": {},
   "number_sections": true,
   "sideBar": true,
   "skip_h1_title": false,
   "title_cell": "Table of Contents",
   "title_sidebar": "Contents",
   "toc_cell": false,
   "toc_position": {},
   "toc_section_display": true,
   "toc_window_display": false
  },
  "varInspector": {
   "cols": {
    "lenName": 16,
    "lenType": 16,
    "lenVar": 40
   },
   "kernels_config": {
    "python": {
     "delete_cmd_postfix": "",
     "delete_cmd_prefix": "del ",
     "library": "var_list.py",
     "varRefreshCmd": "print(var_dic_list())"
    },
    "r": {
     "delete_cmd_postfix": ") ",
     "delete_cmd_prefix": "rm(",
     "library": "var_list.r",
     "varRefreshCmd": "cat(var_dic_list()) "
    }
   },
   "types_to_exclude": [
    "module",
    "function",
    "builtin_function_or_method",
    "instance",
    "_Feature"
   ],
   "window_display": false
  }
 },
 "nbformat": 4,
 "nbformat_minor": 2
}
