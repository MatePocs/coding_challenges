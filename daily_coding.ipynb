{
 "cells": [
  {
   "cell_type": "code",
   "execution_count": 1,
   "metadata": {},
   "outputs": [],
   "source": [
    "cost_fp_minus_cost_tn = 8\n",
    "cost_fn_minus_cost_tp = 4\n",
    "prevalence = 0.6"
   ]
  },
  {
   "cell_type": "code",
   "execution_count": 2,
   "metadata": {},
   "outputs": [],
   "source": [
    "m = (1-prevalence) / prevalence  * cost_fp_minus_cost_tn / cost_fn_minus_cost_tp"
   ]
  },
  {
   "cell_type": "code",
   "execution_count": 3,
   "metadata": {},
   "outputs": [
    {
     "data": {
      "text/plain": [
       "1.3333333333333335"
      ]
     },
     "execution_count": 3,
     "metadata": {},
     "output_type": "execute_result"
    }
   ],
   "source": [
    "m"
   ]
  },
  {
   "cell_type": "code",
   "execution_count": 4,
   "metadata": {},
   "outputs": [
    {
     "data": {
      "text/plain": [
       "0.2333333333333333"
      ]
     },
     "execution_count": 4,
     "metadata": {},
     "output_type": "execute_result"
    }
   ],
   "source": [
    "# threshold 1\n",
    "TPR = 0.3\n",
    "FPR = 0.05\n",
    "TPR - m * FPR"
   ]
  },
  {
   "cell_type": "code",
   "execution_count": 5,
   "metadata": {},
   "outputs": [
    {
     "data": {
      "text/plain": [
       "0.23333333333333328"
      ]
     },
     "execution_count": 5,
     "metadata": {},
     "output_type": "execute_result"
    }
   ],
   "source": [
    "# threshold 2\n",
    "TPR = 0.5\n",
    "FPR = 0.2\n",
    "TPR - m * FPR"
   ]
  },
  {
   "cell_type": "code",
   "execution_count": 6,
   "metadata": {},
   "outputs": [
    {
     "data": {
      "text/plain": [
       "0.16666666666666652"
      ]
     },
     "execution_count": 6,
     "metadata": {},
     "output_type": "execute_result"
    }
   ],
   "source": [
    "# threshold 3\n",
    "TPR = 0.7\n",
    "FPR = 0.4\n",
    "TPR - m * FPR"
   ]
  },
  {
   "cell_type": "code",
   "execution_count": null,
   "metadata": {},
   "outputs": [],
   "source": []
  },
  {
   "cell_type": "code",
   "execution_count": null,
   "metadata": {},
   "outputs": [],
   "source": []
  },
  {
   "cell_type": "markdown",
   "metadata": {
    "heading_collapsed": true
   },
   "source": [
    "### chronological max profit"
   ]
  },
  {
   "cell_type": "markdown",
   "metadata": {
    "hidden": true
   },
   "source": [
    "Given a array of numbers representing the stock prices of a company in chronological order, write a function that calculates the maximum profit you could have made from buying and selling that stock once. You must buy before you can sell it.\n",
    "\n",
    "For example, given [9, 11, 8, 5, 7, 10], you should return 5, since you could buy the stock at 5 dollars and sell it at 10 dollars."
   ]
  },
  {
   "cell_type": "code",
   "execution_count": 11,
   "metadata": {
    "hidden": true
   },
   "outputs": [],
   "source": [
    "# my solution first"
   ]
  },
  {
   "cell_type": "code",
   "execution_count": 16,
   "metadata": {
    "hidden": true
   },
   "outputs": [],
   "source": [
    "def highest_profit(stock_price):\n",
    "    n = len(stock_price)\n",
    "    difference_list = [0] * n\n",
    "    \n",
    "    for i in range(0, n):\n",
    "        for j in range(i + 1, n):\n",
    "            if stock_price[j] - stock_price[i] > difference_list[i]:\n",
    "                difference_list[i] = stock_price[j] - stock_price[i]\n",
    "                \n",
    "    return max(difference_list)    "
   ]
  },
  {
   "cell_type": "code",
   "execution_count": 17,
   "metadata": {
    "hidden": true
   },
   "outputs": [
    {
     "data": {
      "text/plain": [
       "5"
      ]
     },
     "execution_count": 17,
     "metadata": {},
     "output_type": "execute_result"
    }
   ],
   "source": [
    "example = [9,11,8,5,7,10]\n",
    "highest_profit(example)"
   ]
  },
  {
   "cell_type": "code",
   "execution_count": null,
   "metadata": {
    "hidden": true
   },
   "outputs": [],
   "source": [
    "# it looks pretty good to me but it's obviously not linear. i dont know if you can significantly decrease this"
   ]
  },
  {
   "cell_type": "code",
   "execution_count": 18,
   "metadata": {
    "hidden": true
   },
   "outputs": [],
   "source": [
    "# actually, that is the best i can find, so good for us"
   ]
  },
  {
   "cell_type": "markdown",
   "metadata": {
    "heading_collapsed": true
   },
   "source": [
    "### rand(5) to rand(7)"
   ]
  },
  {
   "cell_type": "markdown",
   "metadata": {
    "hidden": true
   },
   "source": [
    "Using a function rand5() that returns an integer from 1 to 5 (inclusive) with uniform probability, implement a function rand7() that returns an integer from 1 to 7 (inclusive)."
   ]
  },
  {
   "cell_type": "code",
   "execution_count": 18,
   "metadata": {
    "hidden": true
   },
   "outputs": [],
   "source": [
    "# my solution first"
   ]
  },
  {
   "cell_type": "code",
   "execution_count": 17,
   "metadata": {
    "hidden": true
   },
   "outputs": [],
   "source": [
    "import numpy as np\n",
    "def rand5():\n",
    "    return np.random.randint(1,6)"
   ]
  },
  {
   "cell_type": "code",
   "execution_count": 38,
   "metadata": {
    "hidden": true
   },
   "outputs": [],
   "source": [
    "def rand7():\n",
    "    # first, we are creating a tuple of two rand5's, can be thought of as a 5x5 matrix\n",
    "    temp_tuple = (rand5(), rand5())\n",
    "    if temp_tuple in [(1,1), (1,2), (1,3)]:\n",
    "        return 1\n",
    "    elif temp_tuple in [(1,4), (1,5), (2,1)]:\n",
    "        return 2\n",
    "    elif temp_tuple in [(2,2), (2,3), (2,4)]:\n",
    "        return 3\n",
    "    elif temp_tuple in [(2,5), (3,1), (3,2)]:\n",
    "        return 4\n",
    "    elif temp_tuple in [(3,3), (3,4), (3,5)]:\n",
    "        return 5\n",
    "    elif temp_tuple in [(4,1), (4,2), (4,3)]:\n",
    "        return 6\n",
    "    elif temp_tuple in [(4,4), (4,5), (5,1)]:\n",
    "        return 7\n",
    "    else:\n",
    "        return rand7()\n",
    "    "
   ]
  },
  {
   "cell_type": "code",
   "execution_count": 39,
   "metadata": {
    "hidden": true
   },
   "outputs": [
    {
     "data": {
      "text/plain": [
       "1"
      ]
     },
     "execution_count": 39,
     "metadata": {},
     "output_type": "execute_result"
    }
   ],
   "source": [
    "rand7()"
   ]
  },
  {
   "cell_type": "code",
   "execution_count": 40,
   "metadata": {
    "hidden": true
   },
   "outputs": [],
   "source": [
    "test_list = []\n",
    "for i in range(0,7000):\n",
    "    test_list.append(rand7())\n",
    "test_list = np.array(test_list)"
   ]
  },
  {
   "cell_type": "code",
   "execution_count": 41,
   "metadata": {
    "hidden": true
   },
   "outputs": [],
   "source": [
    "unique_elements, counts_elements = np.unique(test_list, return_counts=True)"
   ]
  },
  {
   "cell_type": "code",
   "execution_count": 42,
   "metadata": {
    "hidden": true
   },
   "outputs": [
    {
     "data": {
      "text/plain": [
       "(array([1, 2, 3, 4, 5, 6, 7]),\n",
       " array([1022,  977, 1025, 1013,  956, 1006, 1001]))"
      ]
     },
     "execution_count": 42,
     "metadata": {},
     "output_type": "execute_result"
    }
   ],
   "source": [
    "unique_elements, counts_elements"
   ]
  },
  {
   "cell_type": "code",
   "execution_count": 43,
   "metadata": {
    "hidden": true
   },
   "outputs": [],
   "source": [
    "# looks OK. obvious drawback: we are wasting 4/25 of every random generation"
   ]
  },
  {
   "cell_type": "code",
   "execution_count": 44,
   "metadata": {
    "hidden": true
   },
   "outputs": [],
   "source": [
    "# oh, turns out this is the official solution too, which is weird. "
   ]
  },
  {
   "cell_type": "markdown",
   "metadata": {
    "heading_collapsed": true
   },
   "source": [
    "### matrix maze - UNSOLVED"
   ]
  },
  {
   "cell_type": "markdown",
   "metadata": {
    "hidden": true
   },
   "source": [
    "You are given an M by N matrix consisting of booleans that represents a board. Each True boolean represents a wall. Each False boolean represents a tile you can walk on.\n",
    "\n",
    "Given this matrix, a start coordinate, and an end coordinate, return the minimum number of steps required to reach the end coordinate from the start. If there is no possible path, then return null. You can move up, left, down, and right. You cannot move through walls. You cannot wrap around the edges of the board.\n",
    "\n",
    "For example, given the following board:\n",
    "\n",
    "[[f, f, f, f],\n",
    "[t, t, f, t],\n",
    "[f, f, f, f],\n",
    "[f, f, f, f]]\n",
    "and start = (3, 0) (bottom left) and end = (0, 0) (top left), the minimum number of steps required to reach the end is 7, since we would need to go through (1, 2) because there is a wall everywhere else on the second row."
   ]
  },
  {
   "cell_type": "code",
   "execution_count": 36,
   "metadata": {
    "hidden": true
   },
   "outputs": [],
   "source": [
    "# brute force is possible i think with low enough dimensions"
   ]
  },
  {
   "cell_type": "code",
   "execution_count": 21,
   "metadata": {
    "hidden": true
   },
   "outputs": [],
   "source": [
    "def is_available(matrix, position):\n",
    "    matrix_rownum = len(matrix)\n",
    "    matrix_colnum = len(matrix[0])\n",
    "    if position[0] > matrix_rownum or position[0] < 0 or \\\n",
    "        position[1] > matrix_colnum or position[1] < 0 or \\\n",
    "        matrix[position[0]][position[1]] == True:\n",
    "        return False\n",
    "    else:\n",
    "        return True"
   ]
  },
  {
   "cell_type": "code",
   "execution_count": 25,
   "metadata": {
    "hidden": true
   },
   "outputs": [],
   "source": [
    "def list_neighbors(matrix, current_position):\n",
    "    # current position: row, column tuple, so the coordinates in the matrix\n",
    "    \n",
    "    neighbors = []\n",
    "    \n",
    "    current_rownum = current_position[0]\n",
    "    current_colnum = current_position[1]\n",
    "    \n",
    "    to_check = [\n",
    "        (current_rownum - 1, current_colnum), \n",
    "        (current_rownum + 1, current_colnum), \n",
    "        (current_rownum, current_colnum - 1),\n",
    "        (current_rownum, current_colnum + 1),\n",
    "    ]\n",
    "    \n",
    "    # upper check\n",
    "    for neighbor in to_check:\n",
    "        if is_available(matrix, neighbor):\n",
    "            neighbors.append(neighbor)\n",
    "            \n",
    "    return neighbors"
   ]
  },
  {
   "cell_type": "code",
   "execution_count": 30,
   "metadata": {
    "hidden": true
   },
   "outputs": [],
   "source": [
    "def list_empty_neighbors(matrix, distance_matrix, current_position):\n",
    "    \n",
    "    neighbors = list_neighbors(matrix, current_position)\n",
    "    \n",
    "    empty_neighbors = []\n",
    "    \n",
    "    for neighbor in neighbors:\n",
    "        if distance_matrix[neighbor[0]][neighbor[1]].isna():\n",
    "            empty_neighbors.add(neighbor)            "
   ]
  },
  {
   "cell_type": "code",
   "execution_count": 26,
   "metadata": {
    "hidden": true
   },
   "outputs": [],
   "source": [
    "maze = [\n",
    "    [False, False, False, False], [True, True, False, True], \n",
    "    [False, False, False, False], [False, False, False, False], \n",
    "    [True, True, True, True]\n",
    "]"
   ]
  },
  {
   "cell_type": "code",
   "execution_count": null,
   "metadata": {
    "hidden": true
   },
   "outputs": [],
   "source": [
    "def populate_distance_matrix(matrix, current_position):\n",
    "    "
   ]
  },
  {
   "cell_type": "markdown",
   "metadata": {
    "heading_collapsed": true
   },
   "source": [
    "### overlapping time"
   ]
  },
  {
   "cell_type": "markdown",
   "metadata": {
    "hidden": true
   },
   "source": [
    "Given an array of time intervals (start, end) for classroom lectures (possibly overlapping), find the minimum number of rooms required.\n",
    "\n",
    "For example, given [(30, 75), (0, 50), (60, 150)], you should return 2."
   ]
  },
  {
   "cell_type": "code",
   "execution_count": 80,
   "metadata": {
    "hidden": true
   },
   "outputs": [],
   "source": [
    "# i think this is very hard to do in an optimal way. \n",
    "# we can approach it by filling up the rooms left to right"
   ]
  },
  {
   "cell_type": "code",
   "execution_count": 32,
   "metadata": {
    "hidden": true
   },
   "outputs": [],
   "source": [
    "def required_rooms(time_periods):\n",
    "    time_periods.sort()\n",
    "    dict_of_interval_IDs_per_room = {}\n",
    "    # a dictionary of list, first element: wht we can pack in first room\n",
    "    # elements: time period ID\n",
    "    dict_of_interval_IDs_per_room[1] = [time_periods[0]]\n",
    "    counter = 1\n",
    "    \n",
    "    for i in range(1, len(time_periods)):\n",
    "        current_time_period = time_periods[i]\n",
    "        fit_in_existing_room = False\n",
    "        for key in dict_of_interval_IDs_per_room.keys():\n",
    "            print(key)\n",
    "            if current_time_period[0] >= dict_of_interval_IDs_per_room[key][-1][1]:\n",
    "                dict_of_interval_IDs_per_room[key].append(current_time_period)\n",
    "                fit_in_existing_room = True\n",
    "                break\n",
    "        if not(fit_in_existing_room):\n",
    "            counter += 1\n",
    "            dict_of_interval_IDs_per_room[counter] = [current_time_period]\n",
    "                \n",
    "    \n",
    "    return counter, dict_of_interval_IDs_per_room"
   ]
  },
  {
   "cell_type": "code",
   "execution_count": 34,
   "metadata": {
    "hidden": true
   },
   "outputs": [
    {
     "name": "stdout",
     "output_type": "stream",
     "text": [
      "1\n",
      "1\n",
      "2\n",
      "1\n",
      "2\n",
      "1\n"
     ]
    },
    {
     "data": {
      "text/plain": [
       "(3, {1: [(0, 50), (60, 150)], 2: [(5, 15), (20, 70)], 3: [(30, 75)]})"
      ]
     },
     "execution_count": 34,
     "metadata": {},
     "output_type": "execute_result"
    }
   ],
   "source": [
    "time_periods = [(30, 75), (0, 50), (60, 150), (20,70), (5,15)]\n",
    "# time_periods = [(30, 75), (0, 50), (60, 150)]\n",
    "required_rooms(time_periods)"
   ]
  },
  {
   "cell_type": "markdown",
   "metadata": {
    "heading_collapsed": true
   },
   "source": [
    "### balanced brackets"
   ]
  },
  {
   "cell_type": "markdown",
   "metadata": {
    "hidden": true
   },
   "source": [
    "Given a string of round, curly, and square open and closing brackets, return whether the brackets are balanced (well-formed).\n",
    "\n",
    "For example, given the string \"([])[]({})\", you should return true.\n",
    "\n",
    "Given the string \"([)]\" or \"((()\", you should return false."
   ]
  },
  {
   "cell_type": "markdown",
   "metadata": {
    "hidden": true
   },
   "source": [
    "my solution: (obviously not optimal, loops through the string many times)"
   ]
  },
  {
   "cell_type": "code",
   "execution_count": 68,
   "metadata": {
    "hidden": true
   },
   "outputs": [],
   "source": [
    "left_br = ['(', '[', '{']\n",
    "right_br = [')', ']', '}']\n",
    "\n",
    "def brackets_balanced(string):\n",
    "    \n",
    "    string = string\n",
    "    \n",
    "    current_len = len(string)\n",
    "    previous_len = 0\n",
    "    \n",
    "    while current_len != previous_len:\n",
    "        \n",
    "        print(string)\n",
    "        \n",
    "        string = remove_pairs(string)\n",
    "        \n",
    "        previous_len = current_len\n",
    "        current_len = len(string)\n",
    "        \n",
    "    return len(string) == 0\n",
    "    \n",
    "def remove_pairs(string):\n",
    "    \n",
    "    i = 0\n",
    "\n",
    "    #starting from the left, it is definitely ok until we meet the first right \n",
    "    while i < len(string):\n",
    "        curr_char = string[i] \n",
    "        if curr_char in left_br:\n",
    "            last_left = curr_char\n",
    "        else:\n",
    "            curr_right = curr_char\n",
    "            if right_br.index(curr_right) == left_br.index(last_left):\n",
    "                if i == 1:\n",
    "                    string = string[i+1:]\n",
    "                elif i == len(string) + 1:\n",
    "                    string = string[:i-1]\n",
    "                else:\n",
    "                    string = string[:i-1] + string[i+1:]\n",
    "\n",
    "        i +=1\n",
    "\n",
    "    return string\n",
    "    \n",
    "    \n",
    "    "
   ]
  },
  {
   "cell_type": "code",
   "execution_count": 74,
   "metadata": {
    "hidden": true
   },
   "outputs": [
    {
     "name": "stdout",
     "output_type": "stream",
     "text": [
      "([][])\n",
      "([])\n",
      "()\n",
      "\n"
     ]
    },
    {
     "data": {
      "text/plain": [
       "True"
      ]
     },
     "execution_count": 74,
     "metadata": {},
     "output_type": "execute_result"
    }
   ],
   "source": [
    "brackets_balanced('([][])')"
   ]
  },
  {
   "cell_type": "code",
   "execution_count": 75,
   "metadata": {
    "hidden": true
   },
   "outputs": [
    {
     "name": "stdout",
     "output_type": "stream",
     "text": [
      "([}[])\n",
      "([})\n"
     ]
    },
    {
     "data": {
      "text/plain": [
       "False"
      ]
     },
     "execution_count": 75,
     "metadata": {},
     "output_type": "execute_result"
    }
   ],
   "source": [
    "brackets_balanced('([}[])')"
   ]
  },
  {
   "cell_type": "markdown",
   "metadata": {
    "hidden": true
   },
   "source": [
    "after checking the official solution"
   ]
  },
  {
   "cell_type": "code",
   "execution_count": 78,
   "metadata": {
    "hidden": true
   },
   "outputs": [],
   "source": [
    "\n",
    "def brackets_balanced_2(string):\n",
    "    \n",
    "    left_br = ['(', '[', '{']\n",
    "    right_br = [')', ']', '}']\n",
    "    \n",
    "    temp_string = []\n",
    "    \n",
    "    balanced = True\n",
    "    \n",
    "    for i in range(0, len(string)):\n",
    "        \n",
    "        curr_char = string[i]\n",
    "        \n",
    "        if curr_char in left_br:\n",
    "            \n",
    "            temp_string += curr_char\n",
    "            \n",
    "        else:\n",
    "            \n",
    "            if left_br.index(temp_string[-1]) == right_br.index(curr_char):\n",
    "                temp_string.pop()\n",
    "            else:\n",
    "                balanced = False\n",
    "                break\n",
    "                \n",
    "    if len(temp_string) > 0 : balanced = False\n",
    "        \n",
    "    return balanced"
   ]
  },
  {
   "cell_type": "code",
   "execution_count": 79,
   "metadata": {
    "hidden": true
   },
   "outputs": [
    {
     "name": "stdout",
     "output_type": "stream",
     "text": [
      "[]\n",
      "['(']\n",
      "['(', '[']\n",
      "['(']\n",
      "['(', '[']\n",
      "['(']\n"
     ]
    },
    {
     "data": {
      "text/plain": [
       "True"
      ]
     },
     "execution_count": 79,
     "metadata": {},
     "output_type": "execute_result"
    }
   ],
   "source": [
    "brackets_balanced_2('([][])')"
   ]
  },
  {
   "cell_type": "code",
   "execution_count": 77,
   "metadata": {
    "hidden": true
   },
   "outputs": [
    {
     "data": {
      "text/plain": [
       "False"
      ]
     },
     "execution_count": 77,
     "metadata": {},
     "output_type": "execute_result"
    }
   ],
   "source": [
    "brackets_balanced_2('([}[])')"
   ]
  },
  {
   "cell_type": "markdown",
   "metadata": {
    "heading_collapsed": true
   },
   "source": [
    "### run-length encoding"
   ]
  },
  {
   "cell_type": "markdown",
   "metadata": {
    "hidden": true
   },
   "source": [
    "Run-length encoding is a fast and simple method of encoding strings. The basic idea is to represent repeated successive characters as a single count and character. For example, the string \"AAAABBBCCDAA\" would be encoded as \"4A3B2C1D2A\"."
   ]
  },
  {
   "cell_type": "code",
   "execution_count": 29,
   "metadata": {
    "hidden": true
   },
   "outputs": [],
   "source": [
    "def runlength_encoder(string):\n",
    "    count = 1\n",
    "    result_string = ''\n",
    "    coded_char = string[0]\n",
    "    for i in range(1, len(string)):\n",
    "        curr_char = string[i]\n",
    "        if curr_char == coded_char:\n",
    "            count +=1\n",
    "        else:\n",
    "            result_string += str(count) + coded_char\n",
    "            coded_char = curr_char\n",
    "            count = 1\n",
    "            \n",
    "    result_string += str(count) + coded_char   \n",
    "    \n",
    "    return result_string"
   ]
  },
  {
   "cell_type": "code",
   "execution_count": 30,
   "metadata": {
    "hidden": true
   },
   "outputs": [
    {
     "data": {
      "text/plain": [
       "'4A3B2C1D2A'"
      ]
     },
     "execution_count": 30,
     "metadata": {},
     "output_type": "execute_result"
    }
   ],
   "source": [
    "string_to_code = \"AAAABBBCCDAA\"\n",
    "runlength_encoder(string_to_code)"
   ]
  },
  {
   "cell_type": "code",
   "execution_count": 21,
   "metadata": {
    "hidden": true
   },
   "outputs": [],
   "source": [
    "def runlength_decoder(string):\n",
    "    result_string = ''\n",
    "    for i in range(0, len(string), 2):\n",
    "        curr_num = int(string[i])\n",
    "        curr_char = string[i+1]\n",
    "        for j in range(0, curr_num):\n",
    "            result_string += curr_char\n",
    "            \n",
    "    return result_string"
   ]
  },
  {
   "cell_type": "code",
   "execution_count": 22,
   "metadata": {
    "hidden": true
   },
   "outputs": [
    {
     "data": {
      "text/plain": [
       "'AAAABBBCCDAA'"
      ]
     },
     "execution_count": 22,
     "metadata": {},
     "output_type": "execute_result"
    }
   ],
   "source": [
    "string_to_decode = '4A3B2C1D2A'\n",
    "runlength_decoder(string_to_decode)"
   ]
  },
  {
   "cell_type": "code",
   "execution_count": null,
   "metadata": {
    "hidden": true
   },
   "outputs": [],
   "source": []
  }
 ],
 "metadata": {
  "kernelspec": {
   "display_name": "Python 3",
   "language": "python",
   "name": "python3"
  },
  "language_info": {
   "codemirror_mode": {
    "name": "ipython",
    "version": 3
   },
   "file_extension": ".py",
   "mimetype": "text/x-python",
   "name": "python",
   "nbconvert_exporter": "python",
   "pygments_lexer": "ipython3",
   "version": "3.7.4"
  },
  "toc": {
   "base_numbering": 1,
   "nav_menu": {},
   "number_sections": true,
   "sideBar": true,
   "skip_h1_title": false,
   "title_cell": "Table of Contents",
   "title_sidebar": "Contents",
   "toc_cell": false,
   "toc_position": {},
   "toc_section_display": true,
   "toc_window_display": false
  },
  "varInspector": {
   "cols": {
    "lenName": 16,
    "lenType": 16,
    "lenVar": 40
   },
   "kernels_config": {
    "python": {
     "delete_cmd_postfix": "",
     "delete_cmd_prefix": "del ",
     "library": "var_list.py",
     "varRefreshCmd": "print(var_dic_list())"
    },
    "r": {
     "delete_cmd_postfix": ") ",
     "delete_cmd_prefix": "rm(",
     "library": "var_list.r",
     "varRefreshCmd": "cat(var_dic_list()) "
    }
   },
   "types_to_exclude": [
    "module",
    "function",
    "builtin_function_or_method",
    "instance",
    "_Feature"
   ],
   "window_display": false
  }
 },
 "nbformat": 4,
 "nbformat_minor": 2
}
